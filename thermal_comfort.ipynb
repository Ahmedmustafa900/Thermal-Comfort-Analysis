{
 "cells": [
  {
   "cell_type": "code",
   "execution_count": 10,
   "metadata": {},
   "outputs": [
    {
     "name": "stdout",
     "output_type": "stream",
     "text": [
      "Name: pythermalcomfort\n",
      "Version: 3.0.0\n",
      "Summary: pythermalcomfort is a comprehensive toolkit for calculating thermal comfort indices, heat/cold stress metrics, and thermophysiological responses. It supports multiple models, including PMV, PPD, adaptive comfort, SET, UTCI, Heat Index, Wind Chill Index, and Humidex. The package also includes thermophysiological models like the two-node (Gagge) and multinode (JOS-3) models to estimate physiological responses such as core temperature, skin temperature, and skin wettedness.\n",
      "Home-page: https://github.com/CenterForTheBuiltEnvironment/pythermalcomfort\n",
      "Author: Federico Tartarini\n",
      "Author-email: cbecomforttool@gmail.com\n",
      "License: MIT\n",
      "Location: e:\\PYTHON_SETUP\\Lib\\site-packages\n",
      "Requires: numba, numpy, scipy, setuptools\n",
      "Required-by: \n",
      "Note: you may need to restart the kernel to use updated packages.\n"
     ]
    },
    {
     "name": "stderr",
     "output_type": "stream",
     "text": [
      "C:\\Users\\ahmed\\AppData\\Roaming\\Python\\Python313\\site-packages\\IPython\\utils\\_process_win32.py:124: ResourceWarning: unclosed file <_io.BufferedWriter name=3>\n",
      "  return process_handler(cmd, _system_body)\n",
      "ResourceWarning: Enable tracemalloc to get the object allocation traceback\n",
      "C:\\Users\\ahmed\\AppData\\Roaming\\Python\\Python313\\site-packages\\IPython\\utils\\_process_win32.py:124: ResourceWarning: unclosed file <_io.BufferedReader name=4>\n",
      "  return process_handler(cmd, _system_body)\n",
      "ResourceWarning: Enable tracemalloc to get the object allocation traceback\n",
      "C:\\Users\\ahmed\\AppData\\Roaming\\Python\\Python313\\site-packages\\IPython\\utils\\_process_win32.py:124: ResourceWarning: unclosed file <_io.BufferedReader name=5>\n",
      "  return process_handler(cmd, _system_body)\n",
      "ResourceWarning: Enable tracemalloc to get the object allocation traceback\n"
     ]
    }
   ],
   "source": [
    "pip show pythermalcomfort\n"
   ]
  },
  {
   "cell_type": "code",
   "execution_count": 15,
   "metadata": {},
   "outputs": [
    {
     "name": "stdout",
     "output_type": "stream",
     "text": [
      "PMV: -0.81\n",
      "PPD: 18.90%\n"
     ]
    }
   ],
   "source": [
    "from pythermalcomfort.models import pmv_ppd_iso, utci\n",
    "\n",
    "# Input parameters\n",
    "tdb = 22.0   # Dry bulb air temperature (°C)\n",
    "tr = 22.0    # Mean radiant temperature (°C)\n",
    "vr = 0.1     # Air velocity (m/s)\n",
    "rh = 50      # Relative humidity (%)\n",
    "met = 1.2    # Metabolic rate (met)\n",
    "clo = 0.5    # Clothing insulation (clo)\n",
    "\n",
    "# Calculate PMV and PPD\n",
    "results = pmv_ppd_iso(tdb=tdb, tr=tr, vr=vr, rh=rh, clo=clo, met=met, model='7730-2005')\n",
    "\n",
    "print(f\"PMV: {results['pmv']:.2f}\")\n",
    "print(f\"PPD: {results['ppd']:.2f}%\")\n"
   ]
  },
  {
   "cell_type": "code",
   "execution_count": 13,
   "metadata": {},
   "outputs": [
    {
     "name": "stdout",
     "output_type": "stream",
     "text": [
      "PMV: 0.41, PPD: 8.5\n",
      "UTCI: UTCI(utci=np.float64(30.4), stress_category=np.str_('moderate heat stress')) °C\n"
     ]
    }
   ],
   "source": [
    "from pythermalcomfort.models import pmv_ppd_iso, utci\n",
    "\n",
    "# Calculate PMV and PPD using ISO 7730 standard\n",
    "result = pmv_ppd_iso(tdb=25, tr=25, vr=0.1, rh=50, met=1.4, clo=0.5, model='7730-2005')\n",
    "print(f\"PMV: {result.pmv}, PPD: {result.ppd}\")\n",
    "\n",
    "# Calculate UTCI for heat stress assessment\n",
    "utci_value = utci(tdb=30, tr=30, v=0.5, rh=50)\n",
    "print(f\"UTCI: {utci_value} °C\")\n"
   ]
  }
 ],
 "metadata": {
  "kernelspec": {
   "display_name": "Python 3",
   "language": "python",
   "name": "python3"
  },
  "language_info": {
   "codemirror_mode": {
    "name": "ipython",
    "version": 3
   },
   "file_extension": ".py",
   "mimetype": "text/x-python",
   "name": "python",
   "nbconvert_exporter": "python",
   "pygments_lexer": "ipython3",
   "version": "3.13.0"
  }
 },
 "nbformat": 4,
 "nbformat_minor": 2
}
